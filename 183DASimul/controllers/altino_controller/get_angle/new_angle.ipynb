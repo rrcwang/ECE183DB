{
 "cells": [
  {
   "cell_type": "code",
   "execution_count": 1,
   "metadata": {},
   "outputs": [],
   "source": [
    "import numpy as np\n",
    "import matplotlib.pyplot as plt\n",
    "import cv2 as cv\n",
    "import scipy as sp"
   ]
  },
  {
   "cell_type": "code",
   "execution_count": 88,
   "metadata": {},
   "outputs": [
    {
     "name": "stdout",
     "output_type": "stream",
     "text": [
      "[3, 3, 3, 3]\n",
      "0.0\n",
      "0.0\n"
     ]
    }
   ],
   "source": [
    "# read and format data\n",
    "range_data = np.genfromtxt('range_data.csv', delimiter=',')\n",
    "normalization_ratio = 255 / np.amax(range_data)\n",
    "range_data = np.array((range_data*normalization_ratio).astype(np.uint8))\n",
    "\n",
    "# find \n",
    "edges = cv.Canny(range_data, 10, 200)\n",
    "contours, hierarchy = cv.findContours(edges, cv.RETR_TREE, cv.CHAIN_APPROX_SIMPLE)\n",
    "ellipses = [cv.fitEllipse(contours[elps]) for elps in range(np.shape(contours)[0])]\n",
    "\n",
    "# get ellipse characterising disc\n",
    "ellipse_size = [(ellipses[elps][1][0]*ellipses[elps][1][1]) for elps in range(np.shape(contours)[0])]\n",
    "index = np.argmin(ellipse_size)\n",
    "\n",
    "disc_ellipse = ellipses[index]\n",
    "center = np.rint(disc_ellipse[0]).astype(np.int16)\n",
    "size = disc_ellipse[1]\n",
    "rotation = disc_ellipse[2] / 180 * np.pi\n",
    "\n",
    "# calculate points to measure tilt axis from\n",
    "# order clockwise\n",
    "c, s = np.cos(rotation), np.sin(rotation)\n",
    "R = np.array(((c, -s), (s, c)))\n",
    "\n",
    "ratio_from_disc_center = 4\n",
    "reach_pts = [ [size[0]/ratio_from_disc_center,0 ], \n",
    "              [0,-size[1]/ratio_from_disc_center],\n",
    "              [-size[0]/ratio_from_disc_center,0],\n",
    "              [0,size[1]/ratio_from_disc_center ] ]\n",
    "reach_pts = [ tuple(center + np.rint(R @ reach_pts[pt]).astype(np.int16)) for pt in range(4) ]\n",
    "\n",
    "\n",
    "# read disc distance from range_data\n",
    "distance = range_data[center]\n",
    "reach_dist = [ range_data[reach_pts[pt]] for pt in range(4) ]\n",
    "print(reach_dist)\n",
    "\n",
    "# front distances, calculate the pitch and yaw of the disc\n",
    "angle_1 = np.arcsin(reach_dist[0] - reach_dist[2])\n",
    "angle_2 = np.arcsin(reach_dist[1] - reach_dist[3])\n",
    "print(angle_1)\n",
    "print(angle_2)\n"
   ]
  },
  {
   "cell_type": "code",
   "execution_count": 6,
   "metadata": {},
   "outputs": [
    {
     "data": {
      "text/plain": [
       "<matplotlib.image.AxesImage at 0x18679d8f588>"
      ]
     },
     "execution_count": 6,
     "metadata": {},
     "output_type": "execute_result"
    },
    {
     "data": {
      "image/png": "[encoded data removed]",
      "text/plain": [
       "<Figure size 432x288 with 1 Axes>"
      ]
     },
     "metadata": {},
     "output_type": "display_data"
    }
   ],
   "source": [
    "plt.imshow(range_data, cmap='gray')"
   ]
  },
  {
   "cell_type": "code",
   "execution_count": 4,
   "metadata": {},
   "outputs": [
    {
     "ename": "SyntaxError",
     "evalue": "invalid syntax (<ipython-input-4-cf1b216e1808>, line 5)",
     "output_type": "error",
     "traceback": [
      "\u001b[1;36m  File \u001b[1;32m\"<ipython-input-4-cf1b216e1808>\"\u001b[1;36m, line \u001b[1;32m5\u001b[0m\n\u001b[1;33m    print(np.)\u001b[0m\n\u001b[1;37m             ^\u001b[0m\n\u001b[1;31mSyntaxError\u001b[0m\u001b[1;31m:\u001b[0m invalid syntax\n"
     ]
    }
   ],
   "source": [
    "sample_rate = 25\n",
    "data = range_data[::sample_rate,::sample_rate]\n",
    "\n",
    "threshold = 50\n",
    "\n",
    "\n",
    "data[data > threshold] = threshold\n",
    "plt.imshow(data, cmap='gray')\n",
    "print(np.size(data))"
   ]
  },
  {
   "cell_type": "code",
   "execution_count": null,
   "metadata": {},
   "outputs": [],
   "source": []
  }
 ],
 "metadata": {
  "kernelspec": {
   "display_name": "Python 3",
   "language": "python",
   "name": "python3"
  },
  "language_info": {
   "codemirror_mode": {
    "name": "ipython",
    "version": 3
   },
   "file_extension": ".py",
   "mimetype": "text/x-python",
   "name": "python",
   "nbconvert_exporter": "python",
   "pygments_lexer": "ipython3",
   "version": "3.7.6"
  }
 },
 "nbformat": 4,
 "nbformat_minor": 2
}
