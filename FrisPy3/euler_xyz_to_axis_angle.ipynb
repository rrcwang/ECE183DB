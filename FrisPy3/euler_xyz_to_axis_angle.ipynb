{
 "cells": [
  {
   "cell_type": "code",
   "execution_count": 1,
   "metadata": {},
   "outputs": [],
   "source": [
    "import math\n",
    "import numpy as np\n",
    "\n",
    "# code adapted from https://www.euclideanspace.com/maths/geometry/rotations/conversions/eulerToAngle/\n",
    "\n",
    "def euler_xyz_to_axis_angle(r_e, normalize=True):\n",
    "    x_e = r_e[0]\n",
    "    y_e = r_e[1]\n",
    "    z_e = r_e[2]\n",
    "    # Assuming the angles are in radians.\n",
    "    c1 = math.cos(x_e/2)\n",
    "    s1 = math.sin(x_e/2)\n",
    "    c2 = math.cos(y_e/2)\n",
    "    s2 = math.sin(y_e/2)\n",
    "    c3 = math.cos(z_e/2)\n",
    "    s3 = math.sin(z_e/2)\n",
    "    c1c2 = c1*c2\n",
    "    s1s2 = s1*s2\n",
    "    w = c1c2*c3 - s1s2*s3\n",
    "    x = c1c2*s3 + s1s2*c3\n",
    "    y = s1*c2*c3 + c1*s2*s3\n",
    "    z = c1*s2*c3 - s1*c2*s3\n",
    "    angle = 2 * math.acos(w)\n",
    "    if normalize:\n",
    "        norm = x*x+y*y+z*z\n",
    "        if norm < 0.001:\n",
    "            # when all euler angles are zero angle =0 so\n",
    "            # we can set axis to anything to avoid divide by zero\n",
    "            x = 1\n",
    "            y = 0\n",
    "            z = 0\n",
    "        else:\n",
    "            norm = math.sqrt(norm)\n",
    "            x /= norm\n",
    "            y /= norm\n",
    "            z /= norm\n",
    "    return [x, y, z, angle]\n",
    "\n"
   ]
  },
  {
   "cell_type": "code",
   "execution_count": 5,
   "metadata": {},
   "outputs": [
    {
     "name": "stdout",
     "output_type": "stream",
     "text": [
      "[[ 0.00000000e+00  0.00000000e+00  2.60000000e-01 ...  0.00000000e+00\n",
      "   0.00000000e+00  1.00000000e+02]\n",
      " [ 7.99346550e-03  3.99673564e-03  2.59997482e-01 ... -1.88824382e-01\n",
      "  -6.64250948e-01  9.99929691e+01]\n",
      " [ 1.59738969e-02  7.98698845e-03  2.59990083e-01 ...  1.19121550e-01\n",
      "  -1.23584367e+00  9.99870669e+01]\n",
      " ...\n",
      " [ 2.59175248e+00  1.89775735e+00  5.99999921e-02 ...  3.31840811e-01\n",
      "   2.65585401e-01  9.84578845e+01]\n",
      " [ 2.59175248e+00  1.89775735e+00  5.99999921e-02 ...  3.31840811e-01\n",
      "   2.65585401e-01  9.84578845e+01]\n",
      " [ 2.59175248e+00  1.89775735e+00  5.99999921e-02 ...  3.31840811e-01\n",
      "   2.65585401e-01  9.84578845e+01]]\n"
     ]
    }
   ],
   "source": [
    "data = np.genfromtxt(\"trajectory.csv\", delimiter=',')\n",
    "data = data[::4,:]\n",
    "rots = data[:,6:9]\n",
    "print(data)"
   ]
  },
  {
   "cell_type": "code",
   "execution_count": 6,
   "metadata": {},
   "outputs": [],
   "source": [
    "data = np.genfromtxt(\"trajectory.csv\", delimiter=',')\n",
    "\n",
    "data = data[::32]\n",
    "\n",
    "#for i in range(1, data.shape[0]-1):\n",
    "#    data[i+1,0:3] = data[i+1,0:3] - data[i,0:3]\n",
    "\n",
    "np.savetxt(\"trajectory.csv\", data, delimiter=',')"
   ]
  },
  {
   "cell_type": "code",
   "execution_count": 7,
   "metadata": {
    "scrolled": true
   },
   "outputs": [],
   "source": [
    "axis_angle = np.empty((0,4))\n",
    "multiples = [0, 1, 2, 3, 4, 3, 2, 1]\n",
    "\n",
    "for i in range(rots.shape[0]):\n",
    "    f = i % 8\n",
    "    axis_ang = euler_xyz_to_axis_angle(rots[i,:])\n",
    "    axis_ang[3] = axis_ang[3] - math.pi / 2 * multiples[f]\n",
    "    \n",
    "    axis_angle = np.append(axis_angle, np.array([axis_ang]), axis=0)\n",
    "\n",
    "np.savetxt(\"rotations.csv\", axis_angle, delimiter=',')\n",
    "    "
   ]
  },
  {
   "cell_type": "code",
   "execution_count": null,
   "metadata": {},
   "outputs": [],
   "source": []
  },
  {
   "cell_type": "code",
   "execution_count": null,
   "metadata": {},
   "outputs": [],
   "source": []
  }
 ],
 "metadata": {
  "kernelspec": {
   "display_name": "Python 3",
   "language": "python",
   "name": "python3"
  },
  "language_info": {
   "codemirror_mode": {
    "name": "ipython",
    "version": 3
   },
   "file_extension": ".py",
   "mimetype": "text/x-python",
   "name": "python",
   "nbconvert_exporter": "python",
   "pygments_lexer": "ipython3",
   "version": "3.7.6"
  }
 },
 "nbformat": 4,
 "nbformat_minor": 4
}
